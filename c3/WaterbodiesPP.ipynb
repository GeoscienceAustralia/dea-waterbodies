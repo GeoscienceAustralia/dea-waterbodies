{
 "cells": [
  {
   "cell_type": "code",
   "execution_count": 1,
   "id": "1d8dd102-e267-48c1-9275-215ac8d15c37",
   "metadata": {},
   "outputs": [],
   "source": [
    "import geopandas as gpd"
   ]
  },
  {
   "cell_type": "code",
   "execution_count": 2,
   "id": "8196e0c0-a3c6-4e45-ad7c-e3f09c42bdd0",
   "metadata": {},
   "outputs": [],
   "source": [
    "import numpy as np"
   ]
  },
  {
   "cell_type": "code",
   "execution_count": 3,
   "id": "7f1ca93b-52dd-488b-bc4f-d37974e8f096",
   "metadata": {},
   "outputs": [],
   "source": [
    "shp = gpd.read_file('WB_C3_citiesfixed.shp')"
   ]
  },
  {
   "cell_type": "code",
   "execution_count": 4,
   "id": "299d2029-0e8a-4f29-a540-ceef0c7a2b43",
   "metadata": {},
   "outputs": [],
   "source": [
    "area = shp.geometry.area\n",
    "perimeter = shp.geometry.length"
   ]
  },
  {
   "cell_type": "code",
   "execution_count": 5,
   "id": "102e9829-8f25-488f-bc87-10079acb5e4a",
   "metadata": {},
   "outputs": [],
   "source": [
    "pp = 4 * np.pi * area / perimeter ** 2"
   ]
  },
  {
   "cell_type": "code",
   "execution_count": 6,
   "id": "4c09f886-0b4e-44e0-b63b-55ebb20d0db9",
   "metadata": {},
   "outputs": [],
   "source": [
    "shp['pp'] = pp"
   ]
  },
  {
   "cell_type": "code",
   "execution_count": 7,
   "id": "a63a56ff-4681-4a38-a7fe-92d4b24d5682",
   "metadata": {},
   "outputs": [],
   "source": [
    "shp.to_file('WB_C3_citiesfixed_withpp.shp')"
   ]
  },
  {
   "cell_type": "code",
   "execution_count": 10,
   "id": "09ff7241-58ff-4030-9c6d-d1c18f9954b6",
   "metadata": {},
   "outputs": [],
   "source": [
    "high_pp = pp <= 0.005"
   ]
  },
  {
   "cell_type": "code",
   "execution_count": 11,
   "id": "d2562b9b-1f0d-4179-abab-14d1ce84ce0d",
   "metadata": {},
   "outputs": [
    {
     "data": {
      "text/plain": [
       "133"
      ]
     },
     "execution_count": 11,
     "metadata": {},
     "output_type": "execute_result"
    }
   ],
   "source": [
    "high_pp.sum()"
   ]
  },
  {
   "cell_type": "code",
   "execution_count": 12,
   "id": "698c1b89-91b3-45a4-aac7-a851e094e955",
   "metadata": {},
   "outputs": [],
   "source": [
    "shp = shp[high_pp]"
   ]
  },
  {
   "cell_type": "markdown",
   "id": "e21c5bba-f5ff-428a-8f6b-ffd900cc8b67",
   "metadata": {},
   "source": [
    "Buffer and unbuffer to obtain separated polygons and remove tiny polygons."
   ]
  },
  {
   "cell_type": "code",
   "execution_count": 15,
   "id": "669c7ef3-0564-4db6-a198-85d63835857a",
   "metadata": {},
   "outputs": [],
   "source": [
    "buffered = shp.buffer(-30 * 5).buffer(30 * 6)"
   ]
  },
  {
   "cell_type": "code",
   "execution_count": 18,
   "id": "7d2a96dd-d524-4120-99a0-cf9b53cf5339",
   "metadata": {},
   "outputs": [],
   "source": [
    "buffered.to_file('WB_C3_buff1.shp')"
   ]
  },
  {
   "cell_type": "markdown",
   "id": "c393f883-bf39-431a-9fa4-b434dce7cca0",
   "metadata": {},
   "source": [
    "Subtract this from the original."
   ]
  },
  {
   "cell_type": "code",
   "execution_count": 66,
   "id": "3f24c03c-70a6-4204-9e6a-f914fb469c37",
   "metadata": {},
   "outputs": [],
   "source": [
    "subtracted = gpd.overlay(shp, gpd.GeoDataFrame(geometry=[buffered.unary_union], crs='EPSG:3577'), how='difference')"
   ]
  },
  {
   "cell_type": "markdown",
   "id": "72ab29b6-3bf0-45d9-8113-1797b0ce5e37",
   "metadata": {},
   "source": [
    "Pull out all the separate subtracted polygons."
   ]
  },
  {
   "cell_type": "code",
   "execution_count": 80,
   "id": "3ae47794-2659-4b51-b30b-e89afb9fbaa9",
   "metadata": {},
   "outputs": [
    {
     "name": "stderr",
     "output_type": "stream",
     "text": [
      "/tmp/ipykernel_931/773641567.py:4: ShapelyDeprecationWarning: Iteration over multi-part geometries is deprecated and will be removed in Shapely 2.0. Use the `geoms` property to access the constituent parts of a multi-part geometry.\n",
      "  subtracted_polygons.extend(p)\n",
      "/tmp/ipykernel_931/773641567.py:4: ShapelyDeprecationWarning: __len__ for multi-part geometries is deprecated and will be removed in Shapely 2.0. Check the length of the `geoms` property instead to get the  number of parts of a multi-part geometry.\n",
      "  subtracted_polygons.extend(p)\n"
     ]
    }
   ],
   "source": [
    "subtracted_polygons = []\n",
    "for p in subtracted.geometry:\n",
    "    try:  # Multipolygon\n",
    "        subtracted_polygons.extend(p)\n",
    "    except TypeError:  # Polygon\n",
    "        subtracted_polygons.append(p)\n",
    "subtracted_polygons = gpd.GeoDataFrame(geometry=subtracted_polygons, crs='EPSG:3577')"
   ]
  },
  {
   "cell_type": "code",
   "execution_count": 82,
   "id": "d18bdfe3-ac0b-4098-8226-4fa3ee2e2409",
   "metadata": {},
   "outputs": [],
   "source": [
    "subtracted_polygons = subtracted_polygons[subtracted_polygons.area >= 5 * 30 ** 2]"
   ]
  },
  {
   "cell_type": "markdown",
   "id": "2f5439f7-c85a-4971-9f64-fa7d1369d782",
   "metadata": {},
   "source": [
    "Then remove these polygons and see what's left."
   ]
  },
  {
   "cell_type": "code",
   "execution_count": 89,
   "id": "dc71f75c-2e27-44f5-8ed5-6431a3da61d4",
   "metadata": {},
   "outputs": [],
   "source": [
    "resubtracted = gpd.overlay(shp, subtracted_polygons, how='difference')"
   ]
  },
  {
   "cell_type": "code",
   "execution_count": 90,
   "id": "0e0c87df-f923-41f3-a24b-c31876371097",
   "metadata": {},
   "outputs": [
    {
     "name": "stderr",
     "output_type": "stream",
     "text": [
      "/tmp/ipykernel_931/412555037.py:4: ShapelyDeprecationWarning: Iteration over multi-part geometries is deprecated and will be removed in Shapely 2.0. Use the `geoms` property to access the constituent parts of a multi-part geometry.\n",
      "  resubtracted_polygons.extend(p)\n",
      "/tmp/ipykernel_931/412555037.py:4: ShapelyDeprecationWarning: __len__ for multi-part geometries is deprecated and will be removed in Shapely 2.0. Check the length of the `geoms` property instead to get the  number of parts of a multi-part geometry.\n",
      "  resubtracted_polygons.extend(p)\n"
     ]
    }
   ],
   "source": [
    "resubtracted_polygons = []\n",
    "for p in resubtracted.geometry:\n",
    "    try:  # Multipolygon\n",
    "        resubtracted_polygons.extend(p)\n",
    "    except TypeError:  # Polygon\n",
    "        resubtracted_polygons.append(p)\n",
    "resubtracted_polygons = gpd.GeoDataFrame(geometry=resubtracted_polygons, crs='EPSG:3577')"
   ]
  },
  {
   "cell_type": "code",
   "execution_count": 91,
   "id": "d205842f-65bd-460a-82b5-2dc5a50174bf",
   "metadata": {},
   "outputs": [],
   "source": [
    "resubtracted_polygons.to_file('WB_C3_resubtracted.shp')"
   ]
  },
  {
   "cell_type": "markdown",
   "id": "e6fc6631-ea11-4378-879c-21f291d13c80",
   "metadata": {},
   "source": [
    "There are little bits that should be attached but aren't. Find all small polygons attached to these big new polygons. For each big new polygon, search for touching polygons and squish them together."
   ]
  },
  {
   "cell_type": "code",
   "execution_count": 102,
   "id": "7352fb87-fd71-4397-b7d2-77c607026ffd",
   "metadata": {},
   "outputs": [],
   "source": [
    "new_big_geometry = []\n",
    "unassigned = np.ones(len(subtracted_polygons), dtype=bool)\n",
    "for i, big in resubtracted_polygons.iterrows():\n",
    "    mask = subtracted_polygons.exterior.intersects(big.geometry.exterior) & unassigned\n",
    "    neighbours = subtracted_polygons[mask]\n",
    "    unassigned[mask] = 0\n",
    "    if len(neighbours):\n",
    "        big = big.geometry.union(neighbours.unary_union)\n",
    "    else:\n",
    "        big = big.geometry\n",
    "    new_big_geometry.append(big.buffer(0))\n",
    "\n",
    "big_geometry = gpd.GeoDataFrame(geometry=new_big_geometry)"
   ]
  },
  {
   "cell_type": "code",
   "execution_count": 104,
   "id": "6edeb2b5-7d85-40f0-a874-3316720af7a6",
   "metadata": {},
   "outputs": [],
   "source": [
    "big_geometry.to_file('WB_C3_split.shp')"
   ]
  },
  {
   "cell_type": "code",
   "execution_count": null,
   "id": "d8b9d269-486e-4c0d-8082-a5800d0c516f",
   "metadata": {},
   "outputs": [],
   "source": []
  }
 ],
 "metadata": {
  "kernelspec": {
   "display_name": "Python 3 (ipykernel)",
   "language": "python",
   "name": "python3"
  },
  "language_info": {
   "codemirror_mode": {
    "name": "ipython",
    "version": 3
   },
   "file_extension": ".py",
   "mimetype": "text/x-python",
   "name": "python",
   "nbconvert_exporter": "python",
   "pygments_lexer": "ipython3",
   "version": "3.8.10"
  },
  "widgets": {
   "application/vnd.jupyter.widget-state+json": {
    "state": {},
    "version_major": 2,
    "version_minor": 0
   }
  }
 },
 "nbformat": 4,
 "nbformat_minor": 5
}
