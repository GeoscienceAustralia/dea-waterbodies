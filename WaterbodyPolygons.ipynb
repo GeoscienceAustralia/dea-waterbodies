{
 "cells": [
  {
   "cell_type": "markdown",
   "metadata": {},
   "source": [
    "# Waterbody Polygons <img align=\"right\" src=\"../../Supplementary_data/dea_logo.jpg\">\n",
    "\n",
    "* **Compatibility:** Notebook currently compatible with both the NCI and DEA Sandbox environments. \n",
    "* **Products used:** \n",
    "[wofs_summary](https://explorer.sandbox.dea.ga.gov.au/wofs_summary)\n",
    "* **Special requirements:**\n",
    "    - [GEODATA COAST 100K 2004\n",
    "](https://ecat.ga.gov.au/geonetwork/srv/eng/catalog.search#/metadata/61395) coastline polygons\n",
    "    - [Australian Bureau of Statistics Statistical Area 3 shapefile (2016)](http://www.abs.gov.au/AUSSTATS/abs@.nsf/DetailsPage/1270.0.55.001July%202016?OpenDocument#Data)"
   ]
  },
  {
   "cell_type": "markdown",
   "metadata": {},
   "source": [
    "## Background\n",
    "On average, the Australian Government invests around half a billion dollars a year in monitoring, protecting and enhancing Australia's land, coasts and oceans. DEA provides near real-time satellite information which can be used by government to better target these investments.\n",
    "\n",
    "Water is among one the most precious natural resources and is essential for the survival of life on Earth. Within Australia, the scarcity of water is both an economic and social issue. Water is required not only for consumption but for industries and environmental ecosystems to function and flourish. \n",
    "\n",
    "With the demand for water increasing, there is a need to better understand our water availability to ensure we are managing our water resources effectively and efficiently.  \n",
    "\n",
    "Digital Earth Australia (DEA)'s [Water Observations from Space (WOfS) dataset](https://www.sciencedirect.com/science/article/pii/S0034425715301929), provides a water classified image of Australia approximately every 16 days. These individual water observations have been combined into a [WOfS summary product](https://explorer.sandbox.dea.ga.gov.au/wofs_summary), which calculates the frequency of wet observations (compared against all clear observations of that pixel), over the full 30 year satellite archive. \n",
    "\n",
    "The WOfS summary product provides valuable insights into the persistence of water across the Australian landscape on a pixel by pixel basis. While knowing the wet history of a single pixel within a waterbody is useful, it is more useful to be able to map the whole waterbody as a single object. \n",
    "\n",
    "## Description\n",
    "\n",
    "This notebook reimplements the polygon generation of DEA Waterbodies to work on a small area using the DEA Datacube."
   ]
  },
  {
   "cell_type": "markdown",
   "metadata": {},
   "source": [
    "## Getting started\n",
    "\n",
    "To run this analysis, work through this notebook starting with the \"Load packages\" cell. "
   ]
  },
  {
   "cell_type": "markdown",
   "metadata": {},
   "source": [
    "### Load packages\n",
    "Import Python packages that are used for the analysis."
   ]
  },
  {
   "cell_type": "code",
   "execution_count": 1,
   "metadata": {
    "nbsphinx": "hidden"
   },
   "outputs": [
    {
     "name": "stderr",
     "output_type": "stream",
     "text": [
      "/env/lib/python3.6/site-packages/cligj/__init__.py:17: FutureWarning: cligj 1.0.0 will require Python >= 3.7\n",
      "  warn(\"cligj 1.0.0 will require Python >= 3.7\", FutureWarning)\n"
     ]
    }
   ],
   "source": [
    "from pathlib import Path\n",
    "\n",
    "import rasterio.features\n",
    "from shapely.geometry import Polygon, shape, mapping, MultiPolygon\n",
    "from shapely.ops import unary_union\n",
    "import geopandas as gp\n",
    "import fiona\n",
    "from fiona.crs import from_epsg\n",
    "import xarray as xr\n",
    "import pandas as pd\n",
    "import glob\n",
    "import os.path\n",
    "import math\n",
    "import geohash as gh\n",
    "import re\n",
    "import datacube\n",
    "import rioxarray\n",
    "import matplotlib.pyplot as plt\n",
    "import numpy as np\n",
    "from waterbodies_aux import xr_vectorize, xr_rasterize, get_waterbodies"
   ]
  },
  {
   "cell_type": "markdown",
   "metadata": {},
   "source": [
    "## Analysis parameters\n",
    "\n",
    "This section lets you set parameters for the analysis."
   ]
  },
  {
   "cell_type": "markdown",
   "metadata": {},
   "source": [
    "<a id='wetnessThreshold'></a>\n",
    "### How frequently wet does a pixel need to be to be included?\n",
    "The value/s set here will be the minimum frequency (as a decimal between 0 and 1) that you want water to be detected across all analysis years before it is included. \n",
    "\n",
    "E.g. If this was set to 0.10, any pixels that are wet *at least* 10% of the time across all valid observations will be included. If you don't want to use this filter, set this value to 0.\n",
    "\n",
    "Following the exploration of an appropriate wetness threshold for DEA Waterbodies ([see here](DEA_Waterbodies_supplement/DEAWaterbodiesThresholdSensitivityAnalysis.ipynb)), we choose to set two thresholds here. The code is set up to loop through both wetness thresholds, and to write out two temporary shapefiles. These two shapefiles with two separate thresholds are then used together to combine polygons from both thresholds later on in the workflow.\n",
    "\n",
    "Polygons identified by the secondary threshold that intersect with the polygons generated by the primary threshold will be extracted, and included in the final polygon dataset. This means that the **location** of polygons is set by the primary threshold, but the **shape** of these polygons is set by the secondary threshold.\n",
    "\n",
    "Threshold values need to be provided as a list of either one or two floating point numbers. If one number is provided, then this will be used to generate the initial polygon dataset. If two thresholds are entered, the **first number becomes the secondary threshold, and the second number becomes the primary threshold**. If more than two numbers are entered, the code will generate an error below. "
   ]
  },
  {
   "cell_type": "code",
   "execution_count": 2,
   "metadata": {},
   "outputs": [],
   "source": [
    "minimum_wet_percentage = [0.05, 0.1]"
   ]
  },
  {
   "cell_type": "markdown",
   "metadata": {},
   "source": [
    "<a id='size'></a>\n",
    "### How big/small should the polygons be?\n",
    "This filtering step can remove very small and/or very large waterbody polygons. The size listed here is in m2. A single pixel in Landsat data is 25 m X 25 m = 625 m2. \n",
    "\n",
    "**MinSize**\n",
    "\n",
    "E.g. A minimum size of 6250 means that polygons need to be at least 10 pixels to be included. If you don't want to use this filter, set this value to 0.\n",
    "\n",
    "**MaxSize**\n",
    "\n",
    "E.g. A maximum size of 1 000 000 means that you only want to consider polygons less than 1 km2. If you don't want to use this filter, set this number to `math.inf`. \n",
    "\n",
    "*NOTE: if you are doing this analysis for all of Australia, very large polygons will be generated offshore, in the steps prior to filtering by the Australian coastline. For this reason, we have used a `MaxSize` = Area of Kati Thanda-Lake Eyre. This will remove the huge ocean polygons, but keep large inland waterbodies that we want to map.*"
   ]
  },
  {
   "cell_type": "code",
   "execution_count": 3,
   "metadata": {},
   "outputs": [],
   "source": [
    "min_area_m2 = 3125  # 5 pixels\n",
    "max_area_m2 = 5000000000  # approx area of Kati Thanda-Lake Eyre"
   ]
  },
  {
   "cell_type": "markdown",
   "metadata": {},
   "source": [
    "<a id='valid'></a>\n",
    "### Filter results based on number of valid observations"
   ]
  },
  {
   "cell_type": "markdown",
   "metadata": {},
   "source": [
    "The total number of valid WOfS observations for each pixel varies depending on the frequency of clouds and cloud shadow, the proximity to high slope and terrain shadow, and the seasonal change in solar angle. \n",
    "\n",
    "The `count_clear` parameter within the [`wofs_summary`](https://explorer.sandbox.dea.ga.gov.au/wofs_summary) data provides a count of the number of valid observations each pixel recorded over the analysis period. We can use this parameter to mask out pixels that were infrequently observed. \n",
    "If this mask is not applied, pixels that were observed only once could be included if that observation was wet (i.e. a single wet observation means the calculation of the frequency statistic would be (1 wet observation) / (1 total observation) = 100% frequency of wet observations).\n",
    "\n",
    "Here we set the minimum number of observations to be 128 (roughly 4 per year over our 32 year analysis). Note that this parameter does not specify the timing of these observations, but rather just the **total number of valid observations** (observed at any time of the year, in any year)."
   ]
  },
  {
   "cell_type": "code",
   "execution_count": 4,
   "metadata": {},
   "outputs": [],
   "source": [
    "min_valid_observations = 128"
   ]
  },
  {
   "cell_type": "markdown",
   "metadata": {},
   "source": [
    "This filter can be applied before or after aggregating polygons. Version 1 of Waterbodies applies the filter before. If you would like to apply this filter *after* the polygons have been aggregated, specify `False` here:"
   ]
  },
  {
   "cell_type": "code",
   "execution_count": 5,
   "metadata": {},
   "outputs": [],
   "source": [
    "apply_min_valid_observations_first = True"
   ]
  },
  {
   "cell_type": "markdown",
   "metadata": {},
   "source": [
    "### Mask urban areas\n",
    "\n",
    "WOfS has a known limitation where it considers the shadows of tall buildings to be water. We can mask the CBDs of major areas based on the ABS SA3 regions:\n",
    "\n",
    "|SA3_CODE1|SA3_NAME16|\n",
    "|---------|----------|\n",
    "|11703    |Sydney Inner City|\n",
    "|20604    |Melbourne City|\n",
    "|30501    |Brisbane Inner|\n",
    "|30901    |Broadbeach - Burleigh|\n",
    "|30910    |Surfers Paradise|\n",
    "|40101    |Adelaide City|\n",
    "|50302    |Perth City|\n",
    "\n",
    "Set `urban_mask = True` to enable this mask, or `False` to disable it."
   ]
  },
  {
   "cell_type": "code",
   "execution_count": 6,
   "metadata": {},
   "outputs": [],
   "source": [
    "urban_mask = True"
   ]
  },
  {
   "cell_type": "code",
   "execution_count": 7,
   "metadata": {},
   "outputs": [],
   "source": [
    "sa3_urban_areas = [11703, 20604, 30501, 30901, 30910, 40101, 50302]"
   ]
  },
  {
   "cell_type": "markdown",
   "metadata": {},
   "source": [
    "If you want to use the urban mask, then you have to specify the location of the SA3 shapefile:"
   ]
  },
  {
   "cell_type": "code",
   "execution_count": 8,
   "metadata": {},
   "outputs": [],
   "source": [
    "sa3_filepath = 'SA3_2016_AUST.shp'"
   ]
  },
  {
   "cell_type": "markdown",
   "metadata": {},
   "source": [
    "### Splitting large polygons\n",
    "\n",
    "There are currently two methods for splitting large polygons:\n",
    "\n",
    "- Use the Polsby-Popper test, then erode/dilate\n",
    "- Don't do that\n",
    "\n",
    "Choose one of those:"
   ]
  },
  {
   "cell_type": "code",
   "execution_count": 9,
   "metadata": {},
   "outputs": [],
   "source": [
    "handle_large_polygons = 'erode-dilate-v2'"
   ]
  },
  {
   "cell_type": "code",
   "execution_count": 10,
   "metadata": {},
   "outputs": [],
   "source": [
    "# Check that's a valid method for handling.\n",
    "large_polygon_options = {'erode-dilate-v1', 'erode-dilate-v2', 'nothing'}\n",
    "assert handle_large_polygons in large_polygon_options"
   ]
  },
  {
   "cell_type": "markdown",
   "metadata": {},
   "source": [
    "You also need to specify a threshold for the Polsby-Popper test above which polygons won't be split (DEA Waterbodies uses 0.005):"
   ]
  },
  {
   "cell_type": "code",
   "execution_count": 11,
   "metadata": {},
   "outputs": [],
   "source": [
    "pp_thresh = 0.005"
   ]
  },
  {
   "cell_type": "markdown",
   "metadata": {},
   "source": [
    "<a id='Tiles'></a>\n",
    "### Set up the input datasets for the analysis"
   ]
  },
  {
   "cell_type": "code",
   "execution_count": 12,
   "metadata": {},
   "outputs": [],
   "source": [
    "# Lake Will and surrounds\n",
    "# ylim = [-41.77726, -41.71853]\n",
    "# xlim = [145.89853, 146.01644]\n",
    "\n",
    "# Lake Burbury\n",
    "# ylim = [-42.22063, -42.01168]\n",
    "# xlim = [145.59086, 145.79827]\n",
    "\n",
    "# Esperance\n",
    "ylim = [-33.93368, -33.77032]\n",
    "xlim = [121.77200, 122.00242]\n",
    "\n",
    "# Menindee Lakes\n",
    "# ylim = [-32.74068, -32.03379]\n",
    "# xlim = [141.93057, 142.93699]\n",
    "\n",
    "# Cobdogla\n",
    "# ylim = [-34.30416606421627, -34.14519760492369]\n",
    "# xlim = [140.29111862182236, 140.51290512084577]"
   ]
  },
  {
   "cell_type": "markdown",
   "metadata": {},
   "source": [
    "### Output filename\n",
    "\n",
    "Specify the output base filename:"
   ]
  },
  {
   "cell_type": "code",
   "execution_count": 13,
   "metadata": {},
   "outputs": [],
   "source": [
    "base_filename = 'waterbodies'"
   ]
  },
  {
   "cell_type": "markdown",
   "metadata": {},
   "source": [
    "## Generate the first polygon dataset\n",
    "\n",
    "This is the first set of polygons with no filtering.\n",
    "\n",
    "Remove any previous runs of this code, and set up an output directory for the new results."
   ]
  },
  {
   "cell_type": "code",
   "execution_count": 14,
   "metadata": {},
   "outputs": [],
   "source": [
    "%%bash\n",
    "rm -rf _wb_outputs\n",
    "mkdir _wb_outputs"
   ]
  },
  {
   "cell_type": "code",
   "execution_count": 15,
   "metadata": {},
   "outputs": [],
   "source": [
    "intermediate_wb_path = Path('_wb_outputs/')"
   ]
  },
  {
   "cell_type": "markdown",
   "metadata": {},
   "source": [
    "Check we have set all our analysis parameters correctly"
   ]
  },
  {
   "cell_type": "code",
   "execution_count": 16,
   "metadata": {},
   "outputs": [
    {
     "name": "stdout",
     "output_type": "stream",
     "text": [
      "We will be running a hybrid wetness threshold. Please ensure that the major threshold is \n",
      "listed second, with the supplementary threshold entered first.**You have set 0.1 as the detection threshold,** \n",
      "**with 0.05 set as the extent threshold.**\n"
     ]
    }
   ],
   "source": [
    "# First, test whether the wetness threshold has been correctly set\n",
    "if len(minimum_wet_percentage) == 2:\n",
    "    print(\n",
    "        f'We will be running a hybrid wetness threshold. Please ensure that the major threshold is \\n'\n",
    "        f'listed second, with the supplementary threshold entered first.'\n",
    "        f'**You have set {minimum_wet_percentage[-1]} as the detection threshold,** \\n'\n",
    "        f'**with {minimum_wet_percentage[0]} set as the extent threshold.**')\n",
    "elif len(minimum_wet_percentage) == 1:\n",
    "    print(\n",
    "        f'You have not set up the hybrid threshold option. If you meant to use this option, please \\n'\n",
    "        f'set this option by including two wetness thresholds in the `AtLeastThisWet` variable above. \\n'\n",
    "        f'The wetness threshold we will use is {minimum_wet_percentage}.')\n",
    "else:\n",
    "    raise ValueError(\n",
    "        f'There is something wrong with your entered wetness threshold. Please enter a list \\n'\n",
    "        f'of either one or two numbers. You have entered {minimum_wet_percentage}. \\n'\n",
    "        f'See above for more information')"
   ]
  },
  {
   "cell_type": "markdown",
   "metadata": {},
   "source": [
    "Load up WOfS:"
   ]
  },
  {
   "cell_type": "code",
   "execution_count": 17,
   "metadata": {},
   "outputs": [],
   "source": [
    "# Set up the datacube to get DEA data.\n",
    "dc = datacube.Datacube(app='WaterbodyPolygons')\n",
    "\n",
    "# Some query parameters.\n",
    "dask_chunks = {'x': 3000, 'y': 3000, 'time': 1}\n",
    "resolution = (-25, 25)  # This is the resolution of WOfS, which changes depending on which collection you use.\n",
    "\n",
    "# Then load the WOfS summary of clear/wet observations:\n",
    "wofs_ = dc.load('wofs_summary', x=xlim, y=ylim, dask_chunks=dask_chunks)\n",
    "wofs = wofs_.isel(time=0)\n",
    "# And set the no-data values to nan:\n",
    "wofs = wofs.where(wofs != -1)\n",
    "\n",
    "# Also load the all-time summary:\n",
    "wofs_filtered_summary = dc.load('wofs_filtered_summary', x=xlim, y=ylim, dask_chunks=dask_chunks).isel(time=0)"
   ]
  },
  {
   "cell_type": "markdown",
   "metadata": {},
   "source": [
    "Then load the mask for filtering minimum valid observations. We can compute this now even if we don't want to aggregate after filtering, because we'll still need it later."
   ]
  },
  {
   "cell_type": "code",
   "execution_count": 18,
   "metadata": {},
   "outputs": [],
   "source": [
    "# Filter pixels with at least min_valid_observations times.\n",
    "wofs_valid_filtered = wofs.count_clear >= min_valid_observations"
   ]
  },
  {
   "cell_type": "markdown",
   "metadata": {},
   "source": [
    "Now we can do our first pass of polygon detection."
   ]
  },
  {
   "cell_type": "code",
   "execution_count": 19,
   "metadata": {},
   "outputs": [
    {
     "name": "stderr",
     "output_type": "stream",
     "text": [
      "/env/lib/python3.6/site-packages/pyproj/crs/crs.py:53: FutureWarning: '+init=<authority>:<code>' syntax is deprecated. '<authority>:<code>' is the preferred initialization method. When making the change, be mindful of axis order changes: https://pyproj4.github.io/pyproj/stable/gotchas.html#axis-order-changes-in-proj-6\n",
      "  return _prepare_from_string(\" \".join(pjargs))\n",
      "/env/lib/python3.6/site-packages/pyproj/crs/crs.py:53: FutureWarning: '+init=<authority>:<code>' syntax is deprecated. '<authority>:<code>' is the preferred initialization method. When making the change, be mindful of axis order changes: https://pyproj4.github.io/pyproj/stable/gotchas.html#axis-order-changes-in-proj-6\n",
      "  return _prepare_from_string(\" \".join(pjargs))\n"
     ]
    }
   ],
   "source": [
    "for threshold in minimum_wet_percentage:\n",
    "    # Remove any pixels that are wet < AtLeastThisWet% of the time\n",
    "    wofs_filtered = wofs_filtered_summary.wofs_filtered_summary > threshold\n",
    "\n",
    "    # Now find pixels that meet both the minimum valid observations and wetness percentage criteria\n",
    "    # Change all zeros to NaN to create a nan/1 mask layer\n",
    "    # Pixels == 1 now represent our water bodies\n",
    "    if apply_min_valid_observations_first:\n",
    "        wofs_filtered = wofs_filtered.where(wofs_filtered & wofs_valid_filtered)\n",
    "    else:\n",
    "        wofs_filtered = wofs_filtered.where(wofs_filtered)\n",
    "    \n",
    "    # Vectorise the raster.\n",
    "    polygons = xr_vectorize((wofs_filtered == 1).values, crs='EPSG:3577', transform=wofs_filtered_summary.rio.transform())\n",
    "    polygons = polygons[polygons.attribute == 1].reset_index(drop=True)\n",
    "\n",
    "    # Combine any overlapping polygons\n",
    "    polygons = polygons.geometry.buffer(0).unary_union\n",
    "\n",
    "    # Turn the combined multipolygon back into a geodataframe\n",
    "    polygons = gp.GeoDataFrame(\n",
    "        geometry=[poly for poly in polygons])\n",
    "    # We need to add the crs back onto the dataframe\n",
    "    polygons.crs = 'EPSG:3577'\n",
    "\n",
    "    # Calculate the area of each polygon again now that overlapping polygons\n",
    "    # have been merged\n",
    "    polygons['area'] = polygons.area\n",
    "    \n",
    "    # Save the polygons to a shapefile\n",
    "    filename = intermediate_wb_path / f'{base_filename}_raw_{threshold}.shp'\n",
    "    polygons.to_file(filename)"
   ]
  },
  {
   "cell_type": "markdown",
   "metadata": {},
   "source": [
    "We can then look at all of the polygons we have found so far, from which we will extract our waterbodies:"
   ]
  },
  {
   "cell_type": "code",
   "execution_count": 20,
   "metadata": {},
   "outputs": [
    {
     "data": {
      "text/plain": [
       "<matplotlib.axes._subplots.AxesSubplot at 0x7f9d43e81ba8>"
      ]
     },
     "execution_count": 20,
     "metadata": {},
     "output_type": "execute_result"
    },
    {
     "data": {
      "image/png": "[encoded data removed]",
      "text/plain": [
       "<Figure size 432x288 with 1 Axes>"
      ]
     },
     "metadata": {
      "needs_background": "light"
     },
     "output_type": "display_data"
    }
   ],
   "source": [
    "gp.read_file(filename).plot(edgecolor='k')"
   ]
  },
  {
   "cell_type": "markdown",
   "metadata": {},
   "source": [
    "<a id='Filtering'></a>\n",
    "\n",
    "## Filter the merged polygons by area, coastline, CBD, and wetness\n"
   ]
  },
  {
   "cell_type": "markdown",
   "metadata": {},
   "source": [
    "### Filtering by area"
   ]
  },
  {
   "cell_type": "code",
   "execution_count": 21,
   "metadata": {},
   "outputs": [],
   "source": [
    "if len(minimum_wet_percentage) == 2:\n",
    "    polygons = gp.read_file(intermediate_wb_path / f'{base_filename}_raw_{minimum_wet_percentage[1]}.shp')\n",
    "else:\n",
    "    polygons = gp.read_file(intermediate_wb_path / f'{base_filename}_raw_{minimum_wet_percentage[0]}.shp')"
   ]
  },
  {
   "cell_type": "code",
   "execution_count": 22,
   "metadata": {},
   "outputs": [],
   "source": [
    "# Filter polygons by size.\n",
    "polygons = polygons[(polygons['area'] >= min_area_m2) & (polygons['area'] <= max_area_m2)]"
   ]
  },
  {
   "cell_type": "markdown",
   "metadata": {},
   "source": [
    "We have now removed all the very small and very large polygons:"
   ]
  },
  {
   "cell_type": "code",
   "execution_count": 23,
   "metadata": {},
   "outputs": [
    {
     "data": {
      "text/plain": [
       "<matplotlib.axes._subplots.AxesSubplot at 0x7f9d44179550>"
      ]
     },
     "execution_count": 23,
     "metadata": {},
     "output_type": "execute_result"
    },
    {
     "data": {
      "image/png": "[encoded data removed]",
      "text/plain": [
       "<Figure size 432x288 with 1 Axes>"
      ]
     },
     "metadata": {
      "needs_background": "light"
     },
     "output_type": "display_data"
    }
   ],
   "source": [
    "polygons.plot(edgecolor='k')"
   ]
  },
  {
   "cell_type": "markdown",
   "metadata": {},
   "source": [
    "### Filter by coastline\n",
    "\n",
    "Load the coastline:"
   ]
  },
  {
   "cell_type": "code",
   "execution_count": 24,
   "metadata": {},
   "outputs": [],
   "source": [
    "coastline = dc.load('geodata_coast_100k', output_crs='EPSG:3577', x=xlim, y=ylim, resolution=resolution)"
   ]
  },
  {
   "cell_type": "markdown",
   "metadata": {},
   "source": [
    "Mark any polygon that intersects with the sea as ocean."
   ]
  },
  {
   "cell_type": "code",
   "execution_count": 25,
   "metadata": {},
   "outputs": [],
   "source": [
    "# Set up a column to fill the raster with.\n",
    "polygons['polygon_idx'] = range(1, len(polygons) + 1)\n",
    "# Then rasterise the polygons to find the area they cover.\n",
    "raster = xr_rasterize(polygons, wofs, attribute_col='polygon_idx')\n",
    "# Multiply the ocean mask by the polygon_idx at each pixel to find which values of polygon_idx overlap with water and therefore are ocean.\n",
    "ocean_ids = pd.unique((raster * (coastline.land == 0)).values.ravel())"
   ]
  },
  {
   "cell_type": "markdown",
   "metadata": {},
   "source": [
    "Then we can exclude the ocean."
   ]
  },
  {
   "cell_type": "code",
   "execution_count": 26,
   "metadata": {},
   "outputs": [],
   "source": [
    "polygons = polygons[~polygons.polygon_idx.isin(ocean_ids)]"
   ]
  },
  {
   "cell_type": "code",
   "execution_count": 27,
   "metadata": {},
   "outputs": [
    {
     "data": {
      "text/plain": [
       "<matplotlib.axes._subplots.AxesSubplot at 0x7f9d43df0828>"
      ]
     },
     "execution_count": 27,
     "metadata": {},
     "output_type": "execute_result"
    },
    {
     "data": {
      "image/png": "[encoded data removed]",
      "text/plain": [
       "<Figure size 432x288 with 1 Axes>"
      ]
     },
     "metadata": {
      "needs_background": "light"
     },
     "output_type": "display_data"
    }
   ],
   "source": [
    "polygons.plot(antialiased=True, edgecolor='k')"
   ]
  },
  {
   "cell_type": "markdown",
   "metadata": {},
   "source": [
    "### Filter CBD\n",
    "\n",
    "Remove polygons that intersect with major cities if `urban_mask`."
   ]
  },
  {
   "cell_type": "code",
   "execution_count": 28,
   "metadata": {},
   "outputs": [],
   "source": [
    "if urban_mask:\n",
    "    # Read in the SA3 regions.\n",
    "    sa3 = gp.read_file(sa3_filepath)\n",
    "    sa3['SA3_CODE16'] = sa3['SA3_CODE16'].astype(int)\n",
    "    # Get all the regions which are CBDs.\n",
    "    cbds = sa3.set_index('SA3_CODE16').loc[sa3_urban_areas]\n",
    "    # Then remove all polygons that intersect with the CBDs.\n",
    "    city_overlay = gp.overlay(polygons, cbds.to_crs('EPSG:3577'))\n",
    "    polygons = polygons[~polygons.polygon_idx.isin(city_overlay.polygon_idx)]"
   ]
  },
  {
   "cell_type": "markdown",
   "metadata": {},
   "source": [
    "### Combine detected polygons with their maximum extent boundaries"
   ]
  },
  {
   "cell_type": "code",
   "execution_count": 29,
   "metadata": {},
   "outputs": [],
   "source": [
    "# Check for hybrid wetness thresholds\n",
    "if len(minimum_wet_percentage) == 2:\n",
    "    # Note that this assumes that the thresholds have been correctly entered into the 'minimum_wet_percentage'\n",
    "    # variable, with the extent threshold listed first.\n",
    "    lower_threshold = gp.read_file(\n",
    "        intermediate_wb_path / f'{base_filename}_raw_{minimum_wet_percentage[0]}.shp')\n",
    "    lower_threshold['area'] = pd.to_numeric(lower_threshold.area)\n",
    "    # Filter out those pesky huge polygons\n",
    "    lower_threshold = lower_threshold.loc[(lower_threshold['area'] <= max_area_m2)]\n",
    "    lower_threshold['lt_index'] = range(len(lower_threshold))\n",
    "    # Pull out the polygons from the extent shapefile that intersect with the detection shapefile\n",
    "    overlay_extent = gp.overlay(polygons, lower_threshold)\n",
    "    lower_threshold_to_use = lower_threshold.loc[overlay_extent.lt_index]\n",
    "    # Combine the polygons\n",
    "    polygons = gp.GeoDataFrame(pd.concat([lower_threshold_to_use, polygons], ignore_index=True))\n",
    "    # Merge overlapping polygons\n",
    "    polygons = polygons.unary_union\n",
    "    # Back into individual polygons\n",
    "    polygons = gp.GeoDataFrame(crs='EPSG:3577', geometry=[polygons]).explode()"
   ]
  },
  {
   "cell_type": "code",
   "execution_count": 30,
   "metadata": {},
   "outputs": [],
   "source": [
    "# Get rid of the multiindex that explode added:\n",
    "polygons = polygons.reset_index(drop=True)"
   ]
  },
  {
   "cell_type": "code",
   "execution_count": 31,
   "metadata": {},
   "outputs": [],
   "source": [
    "# Add area, perimeter, and polsby-popper columns:\n",
    "polygons['area'] = polygons.area\n",
    "polygons['perimeter'] = polygons.length\n",
    "polygons['pp_test'] = polygons.area * 4 * math.pi / polygons.perimeter ** 2"
   ]
  },
  {
   "cell_type": "code",
   "execution_count": 32,
   "metadata": {},
   "outputs": [],
   "source": [
    "# Dump the merged polygons to a file:\n",
    "polygons.to_file(intermediate_wb_path / f'{base_filename}_merged.shp')\n",
    "polygons.to_file(intermediate_wb_path / f'{base_filename}_merged.geojson', driver='GeoJSON')"
   ]
  },
  {
   "cell_type": "markdown",
   "metadata": {},
   "source": [
    "We now have the 5% extent for all polygons detected at a 10% level:"
   ]
  },
  {
   "cell_type": "code",
   "execution_count": 33,
   "metadata": {},
   "outputs": [
    {
     "data": {
      "text/plain": [
       "<matplotlib.axes._subplots.AxesSubplot at 0x7f9cf4093a90>"
      ]
     },
     "execution_count": 33,
     "metadata": {},
     "output_type": "execute_result"
    },
    {
     "data": {
      "image/png": "[encoded data removed]",
      "text/plain": [
       "<Figure size 432x288 with 1 Axes>"
      ]
     },
     "metadata": {
      "needs_background": "light"
     },
     "output_type": "display_data"
    }
   ],
   "source": [
    "gp.read_file(intermediate_wb_path / f'{base_filename}_merged.shp').plot(edgecolor='k')"
   ]
  },
  {
   "cell_type": "markdown",
   "metadata": {},
   "source": [
    "\n",
    "### Dividing up very large polygons\n",
    "\n",
    "The size of polygons is determined by the contiguity of waterbody pixels through the landscape. This can result in very large polygons, e.g. where rivers are wide and unobscured by trees, or where waterbodies are connected to rivers or neighbouring waterbodies. The image below shows this for the Menindee Lakes, NSW. The relatively flat terrain in this part of Australia means that the 0.05 wetness threshold results in the connection of a large stretch of river and the individual lakes into a single large polygon that spans 154 km. This polygon is too large to provide useful insights into the changing water surface area of the Menindee Lakes, and needs to be broken into smaller, more useful polygons.\n",
    "\n",
    "We do this by applying the [Polsby-Popper test (1991)](https://papers.ssrn.com/sol3/papers.cfm?abstract_id=2936284). The Polsby-Popper test is an assessment of the 'compactness' of a polygon. This method was originally developed to test the shape of congressional and state legislative districts, to prevent gerrymandering. \n",
    "\n",
    "The Polsby-Popper test examines the ratio between the area of a polygon, and the area of a circle equal to the perimeter of that polygon. The result falls between 0 and 1, with values closer to 1 being assessed as more compact.\n",
    "\n",
    "\\begin{align*}\n",
    "PPtest = \\frac{polygon\\ area * 4\\pi}{polygon\\ perimeter^2}\n",
    "\\end{align*}\n",
    "\n",
    "The Menindee Lakes polygon has a PPtest value $\\approx$ 0.00. \n",
    "\n",
    "We selected all polygons with a `PPtest` value <=0.005. This resulted in a subset of 186 polygons continent-wide."
   ]
  },
  {
   "cell_type": "code",
   "execution_count": 34,
   "metadata": {},
   "outputs": [
    {
     "data": {
      "text/plain": [
       "<matplotlib.axes._subplots.AxesSubplot at 0x7f9cf4038f28>"
      ]
     },
     "execution_count": 34,
     "metadata": {},
     "output_type": "execute_result"
    },
    {
     "data": {
      "image/png": "[encoded data removed]",
      "text/plain": [
       "<Figure size 432x288 with 1 Axes>"
      ]
     },
     "metadata": {
      "needs_background": "light"
     },
     "output_type": "display_data"
    }
   ],
   "source": [
    "polygons.plot(column='pp_test')"
   ]
  },
  {
   "cell_type": "markdown",
   "metadata": {},
   "source": [
    "How many polygons in our test region fall below the Polsby-Popper threshold?"
   ]
  },
  {
   "cell_type": "code",
   "execution_count": 35,
   "metadata": {},
   "outputs": [
    {
     "data": {
      "text/plain": [
       "0"
      ]
     },
     "execution_count": 35,
     "metadata": {},
     "output_type": "execute_result"
    }
   ],
   "source": [
    "(polygons.pp_test <= pp_thresh).sum()"
   ]
  },
  {
   "cell_type": "markdown",
   "metadata": {},
   "source": [
    "The 186 polygons were buffered with a -50 meter (2 pixel) buffer to separate the polygons where they are connected by two pixels or less. This allows us to split up these very large polygons by using natural thinning points. The resulting negatively buffered polygons was run through the `multipart to singlepart` tool in QGIS, to give the now separated polygons unique IDs. \n",
    "\n",
    "These polygons were then buffered with a +50 meter buffer to return the polygons to approximately their original size. These final polygons were used to separate the 186 original polygons identified above."
   ]
  },
  {
   "cell_type": "markdown",
   "metadata": {},
   "source": [
    "The process for dividing up the identified very large polygons varied depending on the polygon in question. Where large waterbodies (like the Menindee Lakes) were connected, the buffered polygons were used to determine the cut points in the original polygons. Where additional breaks were required, the [Bureau of Meteorology's Geofabric v 3.0.5 Beta (Suface Hydrology Network)](ftp://ftp.bom.gov.au/anon/home/geofabric/) `waterbodies` dataset was used as an additional source of information for breaking up connected segments.\n",
    "\n",
    "The buffering method didn't work on large segments of river, which became a series of disconnected pieces when negatively and positively buffered. Instead, we used a combination of tributaries and man-made features such as bridges and weirs to segment these river sections."
   ]
  },
  {
   "cell_type": "markdown",
   "metadata": {},
   "source": [
    "If `handle_large_polygons = 'erode-dilate-v1`, then we will attempt to replicate DEA Waterbodies as above. If it's `erode-dilate-v2`, we'll do a slightly different method designed for full automation, but this is not yet implemented. If it's `nothing` we'll do nothing."
   ]
  },
  {
   "cell_type": "code",
   "execution_count": 36,
   "metadata": {},
   "outputs": [],
   "source": [
    "if handle_large_polygons == 'erode-dilate-v1':\n",
    "    needs_buffer = polygons[polygons.pp_test <= pp_thresh]\n",
    "    unbuffered = needs_buffer.buffer(-50)\n",
    "    unbuffered = unbuffered.explode().reset_index(drop=True).buffer(50)\n",
    "    unbuffered = gp.GeoDataFrame(geometry=unbuffered, crs='EPSG:3577')\n",
    "    unbuffered['area'] = unbuffered.area\n",
    "    unbuffered['perimeter'] = unbuffered.length\n",
    "    unbuffered['pp_test'] = unbuffered.area * 4 * math.pi / unbuffered.perimeter ** 2\n",
    "    polygons = pd.concat([polygons[polygons.pp_test > pp_thresh], unbuffered], ignore_index=True)"
   ]
  },
  {
   "cell_type": "markdown",
   "metadata": {},
   "source": [
    "**TODO: This doesn't quite match DEA Waterbodies. Need to cut based on the polygons instead. coastal-waterbodies also contains some ideas for handling these kinds of networks.**"
   ]
  },
  {
   "cell_type": "markdown",
   "metadata": {},
   "source": [
    "v2 is more expensive but doesn't require manual intervention. Start with the original polygon set $P$. Unbuffer by a few pixels and then buffer by one extra pixel, so we have a slightly larger version of the original but split up and without small polygons; call this $Q$. Subtract this from the original polygon set to obtain the subtracted set $P - Q$. Subtract _this_ set to obtain $P - (P - Q)$, noting that this isn't just $P$ because these are set operations. This gives a non-rounded version of the original large polygons that have been split up. We then just need to add back in the small bits that were chopped off, which we can do by assigning each to their nearest neighbour."
   ]
  },
  {
   "cell_type": "code",
   "execution_count": 37,
   "metadata": {},
   "outputs": [],
   "source": [
    "if handle_large_polygons == 'erode-dilate-v2':\n",
    "    splittable = polygons[polygons.pp_test <= pp_thresh]\n",
    "    if len(splittable) >= 1:\n",
    "        unbuffered = splittable.buffer(-100)\n",
    "        buffered = unbuffered.buffer(125)\n",
    "        subtracted = gp.overlay(splittable, gp.GeoDataFrame(geometry=[buffered.unary_union], crs=splittable.crs), how='difference').explode().reset_index(drop=True)\n",
    "        resubtracted = gp.overlay(splittable, subtracted, how='difference').explode().reset_index(drop=True)\n",
    "\n",
    "        # Assign each chopped-off bit of the polygon to its nearest big neighbour.\n",
    "        unassigned = np.ones(len(subtracted), dtype=bool)\n",
    "        recombined = []\n",
    "        for i, poly in resubtracted.iterrows():\n",
    "            mask = subtracted.exterior.intersects(poly.geometry.exterior) & unassigned\n",
    "            neighbours = subtracted[mask]\n",
    "            unassigned[mask] = False\n",
    "            poly = poly.geometry.union(neighbours.unary_union)\n",
    "            recombined.append(poly)    \n",
    "\n",
    "        # All remaining polygons are not part of a big polygon.\n",
    "        results = pd.concat([gp.GeoDataFrame(geometry=recombined), subtracted[unassigned], polygons[polygons.pp_test > pp_thresh]], ignore_index=True)\n",
    "\n",
    "        polygons = results.explode().reset_index(drop=True)"
   ]
  },
  {
   "cell_type": "code",
   "execution_count": 38,
   "metadata": {},
   "outputs": [],
   "source": [
    "if handle_large_polygons == 'nothing':\n",
    "    print('Not splitting large polygons')"
   ]
  },
  {
   "cell_type": "markdown",
   "metadata": {},
   "source": [
    "Here is the most complex polygon after the splitting step:"
   ]
  },
  {
   "cell_type": "code",
   "execution_count": 39,
   "metadata": {},
   "outputs": [
    {
     "data": {
      "image/svg+xml": [
       "<svg xmlns=\"http://www.w3.org/2000/svg\" xmlns:xlink=\"http://www.w3.org/1999/xlink\" width=\"300\" height=\"300\" viewBox=\"-930107.0 -3727757.0 4239.0 2439.0\" preserveAspectRatio=\"xMinYMin meet\"><g transform=\"matrix(1,0,0,-1,0,-7453075.0)\"><path fill-rule=\"evenodd\" fill=\"#66cc99\" stroke=\"#555555\" stroke-width=\"28.26\" opacity=\"0.6\" d=\"M -928600.0,-3727175.0 L -928575.0,-3727175.0 L -928575.0,-3727150.0 L -928550.0,-3727150.0 L -928550.0,-3727175.0 L -928525.0,-3727175.0 L -928525.0,-3727225.0 L -928550.0,-3727225.0 L -928550.0,-3727250.0 L -928575.0,-3727250.0 L -928575.0,-3727300.0 L -928575.0,-3727325.0 L -928600.0,-3727325.0 L -928600.0,-3727350.0 L -928625.0,-3727350.0 L -928650.0,-3727350.0 L -928650.0,-3727375.0 L -928675.0,-3727375.0 L -928700.0,-3727375.0 L -928700.0,-3727400.0 L -928725.0,-3727400.0 L -928750.0,-3727400.0 L -928800.0,-3727400.0 L -928800.0,-3727475.0 L -928825.0,-3727475.0 L -928825.0,-3727500.0 L -928850.0,-3727500.0 L -928850.0,-3727525.0 L -928875.0,-3727525.0 L -928875.0,-3727550.0 L -928900.0,-3727550.0 L -929000.0,-3727550.0 L -929000.0,-3727575.0 L -929025.0,-3727575.0 L -929050.0,-3727575.0 L -929050.0,-3727600.0 L -929125.0,-3727600.0 L -929125.0,-3727575.0 L -929175.0,-3727575.0 L -929175.0,-3727525.0 L -929175.0,-3727500.0 L -929150.0,-3727500.0 L -929150.0,-3727475.0 L -929125.0,-3727475.0 L -929100.0,-3727475.0 L -929075.0,-3727475.0 L -929075.0,-3727450.0 L -929050.0,-3727450.0 L -929050.0,-3727400.0 L -929100.0,-3727400.0 L -929100.0,-3727375.0 L -929125.0,-3727375.0 L -929125.0,-3727350.0 L -929125.0,-3727325.0 L -929175.0,-3727325.0 L -929175.0,-3727350.0 L -929200.0,-3727350.0 L -929200.0,-3727375.0 L -929175.0,-3727375.0 L -929175.0,-3727400.0 L -929200.0,-3727400.0 L -929250.0,-3727400.0 L -929250.0,-3727375.0 L -929300.0,-3727375.0 L -929325.0,-3727375.0 L -929350.0,-3727375.0 L -929350.0,-3727400.0 L -929350.0,-3727425.0 L -929375.0,-3727425.0 L -929375.0,-3727450.0 L -929400.0,-3727450.0 L -929425.0,-3727450.0 L -929425.0,-3727475.0 L -929475.0,-3727475.0 L -929475.0,-3727450.0 L -929525.0,-3727450.0 L -929525.0,-3727425.0 L -929625.0,-3727425.0 L -929625.0,-3727450.0 L -929625.0,-3727475.0 L -929650.0,-3727475.0 L -929775.0,-3727475.0 L -929775.0,-3727450.0 L -929850.0,-3727450.0 L -929850.0,-3727425.0 L -929875.0,-3727425.0 L -929875.0,-3727400.0 L -929900.0,-3727400.0 L -929900.0,-3727350.0 L -929925.0,-3727350.0 L -929925.0,-3727325.0 L -929950.0,-3727325.0 L -929950.0,-3727300.0 L -929950.0,-3727225.0 L -929950.0,-3727200.0 L -929925.0,-3727200.0 L -929925.0,-3727150.0 L -929925.0,-3727125.0 L -929900.0,-3727125.0 L -929875.0,-3727125.0 L -929875.0,-3727100.0 L -929725.0,-3727100.0 L -929700.0,-3727100.0 L -929700.0,-3727075.0 L -929600.0,-3727075.0 L -929575.0,-3727075.0 L -929575.0,-3727050.0 L -929525.0,-3727050.0 L -929500.0,-3727050.0 L -929500.0,-3727075.0 L -929450.0,-3727075.0 L -929450.0,-3727100.0 L -929425.0,-3727100.0 L -929425.0,-3727125.0 L -929400.0,-3727125.0 L -929375.0,-3727125.0 L -929375.0,-3727150.0 L -929375.0,-3727175.0 L -929350.0,-3727175.0 L -929300.0,-3727175.0 L -929250.0,-3727175.0 L -929225.0,-3727175.0 L -929225.0,-3727100.0 L -929200.0,-3727100.0 L -929200.0,-3727075.0 L -929200.0,-3727050.0 L -929250.0,-3727050.0 L -929250.0,-3727025.0 L -929300.0,-3727025.0 L -929300.0,-3727075.0 L -929325.0,-3727075.0 L -929325.0,-3727050.0 L -929425.0,-3727050.0 L -929425.0,-3727025.0 L -929450.0,-3727025.0 L -929450.0,-3727000.0 L -929475.0,-3727000.0 L -929475.0,-3726975.0 L -929500.0,-3726975.0 L -929500.0,-3726950.0 L -929500.0,-3726900.0 L -929475.0,-3726900.0 L -929475.0,-3726875.0 L -929450.0,-3726875.0 L -929450.0,-3726850.0 L -929425.0,-3726850.0 L -929425.0,-3726775.0 L -929425.0,-3726750.0 L -929400.0,-3726750.0 L -929400.0,-3726725.0 L -929400.0,-3726700.0 L -929375.0,-3726700.0 L -929375.0,-3726625.0 L -929350.0,-3726625.0 L -929325.0,-3726625.0 L -929325.0,-3726600.0 L -929300.0,-3726600.0 L -929275.0,-3726600.0 L -929275.0,-3726575.0 L -929175.0,-3726575.0 L -929175.0,-3726600.0 L -929125.0,-3726600.0 L -929125.0,-3726625.0 L -929100.0,-3726625.0 L -929100.0,-3726650.0 L -929050.0,-3726650.0 L -929050.0,-3726625.0 L -929025.0,-3726625.0 L -929025.0,-3726600.0 L -929050.0,-3726600.0 L -929050.0,-3726575.0 L -929075.0,-3726575.0 L -929075.0,-3726525.0 L -929125.0,-3726525.0 L -929125.0,-3726500.0 L -929150.0,-3726500.0 L -929150.0,-3726475.0 L -929175.0,-3726475.0 L -929175.0,-3726450.0 L -929200.0,-3726450.0 L -929275.0,-3726450.0 L -929275.0,-3726425.0 L -929325.0,-3726425.0 L -929325.0,-3726450.0 L -929350.0,-3726450.0 L -929350.0,-3726475.0 L -929375.0,-3726475.0 L -929375.0,-3726525.0 L -929400.0,-3726525.0 L -929400.0,-3726550.0 L -929425.0,-3726550.0 L -929425.0,-3726525.0 L -929450.0,-3726525.0 L -929450.0,-3726500.0 L -929475.0,-3726500.0 L -929475.0,-3726475.0 L -929525.0,-3726475.0 L -929525.0,-3726500.0 L -929550.0,-3726500.0 L -929575.0,-3726500.0 L -929575.0,-3726525.0 L -929625.0,-3726525.0 L -929625.0,-3726500.0 L -929675.0,-3726500.0 L -929675.0,-3726550.0 L -929675.0,-3726575.0 L -929700.0,-3726575.0 L -929700.0,-3726600.0 L -929675.0,-3726600.0 L -929650.0,-3726600.0 L -929650.0,-3726575.0 L -929575.0,-3726575.0 L -929575.0,-3726600.0 L -929525.0,-3726600.0 L -929525.0,-3726625.0 L -929500.0,-3726625.0 L -929500.0,-3726650.0 L -929475.0,-3726650.0 L -929475.0,-3726750.0 L -929500.0,-3726750.0 L -929500.0,-3726775.0 L -929525.0,-3726775.0 L -929525.0,-3726800.0 L -929550.0,-3726800.0 L -929550.0,-3726825.0 L -929575.0,-3726825.0 L -929575.0,-3726850.0 L -929600.0,-3726850.0 L -929600.0,-3726875.0 L -929625.0,-3726875.0 L -929625.0,-3726900.0 L -929650.0,-3726900.0 L -929650.0,-3726925.0 L -929675.0,-3726925.0 L -929675.0,-3726875.0 L -929650.0,-3726875.0 L -929650.0,-3726850.0 L -929650.0,-3726825.0 L -929675.0,-3726825.0 L -929675.0,-3726800.0 L -929700.0,-3726800.0 L -929750.0,-3726800.0 L -929750.0,-3726775.0 L -929750.0,-3726750.0 L -929775.0,-3726750.0 L -929775.0,-3726625.0 L -929800.0,-3726625.0 L -929825.0,-3726625.0 L -929825.0,-3726600.0 L -929800.0,-3726600.0 L -929800.0,-3726575.0 L -929800.0,-3726550.0 L -929775.0,-3726550.0 L -929750.0,-3726550.0 L -929750.0,-3726500.0 L -929725.0,-3726500.0 L -929725.0,-3726400.0 L -929750.0,-3726400.0 L -929750.0,-3726350.0 L -929750.0,-3726325.0 L -929725.0,-3726325.0 L -929725.0,-3726275.0 L -929750.0,-3726275.0 L -929750.0,-3726250.0 L -929725.0,-3726250.0 L -929725.0,-3726200.0 L -929700.0,-3726200.0 L -929700.0,-3726175.0 L -929675.0,-3726175.0 L -929675.0,-3726150.0 L -929650.0,-3726150.0 L -929650.0,-3726125.0 L -929625.0,-3726125.0 L -929600.0,-3726125.0 L -929600.0,-3726100.0 L -929575.0,-3726100.0 L -929475.0,-3726100.0 L -929475.0,-3726125.0 L -929450.0,-3726125.0 L -929450.0,-3726150.0 L -929425.0,-3726150.0 L -929425.0,-3726125.0 L -929400.0,-3726125.0 L -929400.0,-3726150.0 L -929375.0,-3726150.0 L -929375.0,-3726175.0 L -929375.0,-3726200.0 L -929350.0,-3726200.0 L -929350.0,-3726250.0 L -929325.0,-3726250.0 L -929300.0,-3726250.0 L -929300.0,-3726200.0 L -929300.0,-3726175.0 L -929300.0,-3726150.0 L -929325.0,-3726150.0 L -929325.0,-3726125.0 L -929350.0,-3726125.0 L -929350.0,-3726075.0 L -929275.0,-3726075.0 L -929250.0,-3726075.0 L -929250.0,-3726050.0 L -929200.0,-3726050.0 L -929200.0,-3726075.0 L -929175.0,-3726075.0 L -929175.0,-3726100.0 L -929150.0,-3726100.0 L -929150.0,-3726125.0 L -929125.0,-3726125.0 L -929125.0,-3726075.0 L -929100.0,-3726075.0 L -929100.0,-3726050.0 L -929075.0,-3726050.0 L -929075.0,-3726025.0 L -929050.0,-3726025.0 L -929050.0,-3726000.0 L -929025.0,-3726000.0 L -929025.0,-3725975.0 L -928875.0,-3725975.0 L -928875.0,-3726000.0 L -928825.0,-3726000.0 L -928825.0,-3726025.0 L -928800.0,-3726025.0 L -928800.0,-3726050.0 L -928750.0,-3726050.0 L -928750.0,-3726075.0 L -928725.0,-3726075.0 L -928725.0,-3726100.0 L -928700.0,-3726100.0 L -928700.0,-3726125.0 L -928675.0,-3726125.0 L -928675.0,-3726000.0 L -928650.0,-3726000.0 L -928650.0,-3725975.0 L -928575.0,-3725975.0 L -928575.0,-3726000.0 L -928550.0,-3726000.0 L -928550.0,-3725975.0 L -928525.0,-3725975.0 L -928425.0,-3725975.0 L -928425.0,-3726000.0 L -928400.0,-3726000.0 L -928375.0,-3726000.0 L -928350.0,-3726000.0 L -928350.0,-3725975.0 L -928300.0,-3725975.0 L -928300.0,-3726000.0 L -928275.0,-3726000.0 L -928275.0,-3726075.0 L -928250.0,-3726075.0 L -928250.0,-3726100.0 L -928175.0,-3726100.0 L -928175.0,-3726125.0 L -928150.0,-3726125.0 L -928150.0,-3726175.0 L -928125.0,-3726175.0 L -928125.0,-3726150.0 L -928100.0,-3726150.0 L -928075.0,-3726150.0 L -928075.0,-3726125.0 L -928050.0,-3726125.0 L -928025.0,-3726125.0 L -928025.0,-3726150.0 L -928025.0,-3726175.0 L -928000.0,-3726175.0 L -927975.0,-3726175.0 L -927950.0,-3726175.0 L -927950.0,-3726100.0 L -927925.0,-3726100.0 L -927925.0,-3726075.0 L -927900.0,-3726075.0 L -927900.0,-3726050.0 L -927875.0,-3726050.0 L -927825.0,-3726050.0 L -927800.0,-3726050.0 L -927800.0,-3726075.0 L -927775.0,-3726075.0 L -927775.0,-3726100.0 L -927750.0,-3726100.0 L -927750.0,-3726150.0 L -927725.0,-3726150.0 L -927725.0,-3726175.0 L -927700.0,-3726175.0 L -927700.0,-3726225.0 L -927725.0,-3726225.0 L -927725.0,-3726250.0 L -927750.0,-3726250.0 L -927750.0,-3726275.0 L -927775.0,-3726275.0 L -927775.0,-3726300.0 L -927800.0,-3726300.0 L -927825.0,-3726300.0 L -927825.0,-3726275.0 L -927850.0,-3726275.0 L -927850.0,-3726250.0 L -927925.0,-3726250.0 L -927925.0,-3726275.0 L -927900.0,-3726275.0 L -927900.0,-3726300.0 L -927850.0,-3726300.0 L -927850.0,-3726325.0 L -927600.0,-3726325.0 L -927600.0,-3726350.0 L -927575.0,-3726350.0 L -927575.0,-3726375.0 L -927550.0,-3726375.0 L -927550.0,-3726350.0 L -927500.0,-3726350.0 L -927500.0,-3726375.0 L -927450.0,-3726375.0 L -927450.0,-3726400.0 L -927425.0,-3726400.0 L -927425.0,-3726425.0 L -927400.0,-3726425.0 L -927400.0,-3726450.0 L -927350.0,-3726450.0 L -927350.0,-3726425.0 L -927325.0,-3726425.0 L -927325.0,-3726450.0 L -927275.0,-3726450.0 L -927275.0,-3726475.0 L -927250.0,-3726475.0 L -927225.0,-3726475.0 L -927225.0,-3726375.0 L -927275.0,-3726375.0 L -927275.0,-3726350.0 L -927325.0,-3726350.0 L -927325.0,-3726300.0 L -927300.0,-3726300.0 L -927300.0,-3726275.0 L -927275.0,-3726275.0 L -927250.0,-3726275.0 L -927250.0,-3726200.0 L -927300.0,-3726200.0 L -927325.0,-3726200.0 L -927325.0,-3726175.0 L -927325.0,-3726150.0 L -927300.0,-3726150.0 L -927300.0,-3726125.0 L -927300.0,-3726100.0 L -927300.0,-3726050.0 L -927325.0,-3726050.0 L -927325.0,-3726025.0 L -927300.0,-3726025.0 L -927300.0,-3726000.0 L -927250.0,-3726000.0 L -927250.0,-3726025.0 L -927225.0,-3726025.0 L -927225.0,-3726050.0 L -927250.0,-3726050.0 L -927250.0,-3726075.0 L -927225.0,-3726075.0 L -927225.0,-3726100.0 L -927150.0,-3726100.0 L -927125.0,-3726100.0 L -927125.0,-3726025.0 L -927150.0,-3726025.0 L -927150.0,-3726000.0 L -927125.0,-3726000.0 L -927125.0,-3725975.0 L -927100.0,-3725975.0 L -927075.0,-3725975.0 L -927075.0,-3725950.0 L -927075.0,-3725900.0 L -927100.0,-3725900.0 L -927100.0,-3725875.0 L -927125.0,-3725875.0 L -927150.0,-3725875.0 L -927150.0,-3725850.0 L -927150.0,-3725775.0 L -927125.0,-3725775.0 L -927125.0,-3725750.0 L -927100.0,-3725750.0 L -927075.0,-3725750.0 L -927050.0,-3725750.0 L -927050.0,-3725725.0 L -927025.0,-3725725.0 L -927025.0,-3725775.0 L -927050.0,-3725775.0 L -927050.0,-3725800.0 L -927025.0,-3725800.0 L -927025.0,-3725825.0 L -926950.0,-3725825.0 L -926950.0,-3725800.0 L -926925.0,-3725800.0 L -926925.0,-3725825.0 L -926900.0,-3725825.0 L -926875.0,-3725825.0 L -926875.0,-3725800.0 L -926875.0,-3725775.0 L -926850.0,-3725775.0 L -926850.0,-3725750.0 L -926850.0,-3725725.0 L -926825.0,-3725725.0 L -926825.0,-3725675.0 L -926850.0,-3725675.0 L -926850.0,-3725625.0 L -926900.0,-3725625.0 L -926900.0,-3725650.0 L -926925.0,-3725650.0 L -927025.0,-3725650.0 L -927025.0,-3725675.0 L -927050.0,-3725675.0 L -927050.0,-3725650.0 L -927075.0,-3725650.0 L -927075.0,-3725625.0 L -927075.0,-3725600.0 L -927100.0,-3725600.0 L -927100.0,-3725575.0 L -927175.0,-3725575.0 L -927175.0,-3725600.0 L -927200.0,-3725600.0 L -927200.0,-3725650.0 L -927175.0,-3725650.0 L -927175.0,-3725700.0 L -927200.0,-3725700.0 L -927200.0,-3725675.0 L -927225.0,-3725675.0 L -927225.0,-3725700.0 L -927275.0,-3725700.0 L -927275.0,-3725650.0 L -927250.0,-3725650.0 L -927225.0,-3725650.0 L -927225.0,-3725575.0 L -927200.0,-3725575.0 L -927200.0,-3725550.0 L -927175.0,-3725550.0 L -927175.0,-3725525.0 L -927100.0,-3725525.0 L -927100.0,-3725550.0 L -927000.0,-3725550.0 L -927000.0,-3725525.0 L -926950.0,-3725525.0 L -926925.0,-3725525.0 L -926925.0,-3725500.0 L -926900.0,-3725500.0 L -926875.0,-3725500.0 L -926875.0,-3725475.0 L -926850.0,-3725475.0 L -926850.0,-3725500.0 L -926625.0,-3725500.0 L -926625.0,-3725525.0 L -926600.0,-3725525.0 L -926575.0,-3725525.0 L -926550.0,-3725525.0 L -926550.0,-3725500.0 L -926425.0,-3725500.0 L -926400.0,-3725500.0 L -926400.0,-3725525.0 L -926325.0,-3725525.0 L -926325.0,-3725550.0 L -926250.0,-3725550.0 L -926250.0,-3725575.0 L -926225.0,-3725575.0 L -926225.0,-3725600.0 L -926200.0,-3725600.0 L -926200.0,-3725625.0 L -926150.0,-3725625.0 L -926150.0,-3725650.0 L -926125.0,-3725650.0 L -926125.0,-3725700.0 L -926075.0,-3725700.0 L -926075.0,-3725750.0 L -926050.0,-3725750.0 L -926050.0,-3725875.0 L -926025.0,-3725875.0 L -926025.0,-3725900.0 L -926050.0,-3725900.0 L -926050.0,-3726025.0 L -926075.0,-3726025.0 L -926075.0,-3726125.0 L -926100.0,-3726125.0 L -926100.0,-3726175.0 L -926125.0,-3726175.0 L -926125.0,-3726200.0 L -926150.0,-3726200.0 L -926150.0,-3726225.0 L -926175.0,-3726225.0 L -926200.0,-3726225.0 L -926200.0,-3726250.0 L -926400.0,-3726250.0 L -926400.0,-3726225.0 L -926450.0,-3726225.0 L -926450.0,-3726250.0 L -926500.0,-3726250.0 L -926500.0,-3726225.0 L -926550.0,-3726225.0 L -926550.0,-3726200.0 L -926650.0,-3726200.0 L -926650.0,-3726175.0 L -926675.0,-3726175.0 L -926675.0,-3726150.0 L -926700.0,-3726150.0 L -926700.0,-3726125.0 L -926700.0,-3726075.0 L -926675.0,-3726075.0 L -926675.0,-3726050.0 L -926700.0,-3726050.0 L -926725.0,-3726050.0 L -926725.0,-3726025.0 L -926725.0,-3725975.0 L -926750.0,-3725975.0 L -926750.0,-3725925.0 L -926775.0,-3725925.0 L -926775.0,-3725900.0 L -926800.0,-3725900.0 L -926800.0,-3725975.0 L -926825.0,-3725975.0 L -926825.0,-3726050.0 L -926850.0,-3726050.0 L -926850.0,-3726075.0 L -926875.0,-3726075.0 L -926875.0,-3726100.0 L -926900.0,-3726100.0 L -926900.0,-3726125.0 L -926950.0,-3726125.0 L -926950.0,-3726100.0 L -926975.0,-3726100.0 L -927000.0,-3726100.0 L -927000.0,-3726075.0 L -927025.0,-3726075.0 L -927025.0,-3726100.0 L -927050.0,-3726100.0 L -927050.0,-3726125.0 L -927050.0,-3726150.0 L -927075.0,-3726150.0 L -927100.0,-3726150.0 L -927175.0,-3726150.0 L -927175.0,-3726175.0 L -927200.0,-3726175.0 L -927200.0,-3726225.0 L -927200.0,-3726250.0 L -927200.0,-3726325.0 L -927175.0,-3726325.0 L -927175.0,-3726350.0 L -927175.0,-3726475.0 L -927200.0,-3726475.0 L -927200.0,-3726500.0 L -927225.0,-3726500.0 L -927225.0,-3726525.0 L -927250.0,-3726525.0 L -927250.0,-3726500.0 L -927325.0,-3726500.0 L -927325.0,-3726525.0 L -927300.0,-3726525.0 L -927300.0,-3726550.0 L -927300.0,-3726575.0 L -927275.0,-3726575.0 L -927275.0,-3726725.0 L -927275.0,-3726750.0 L -927275.0,-3726800.0 L -927300.0,-3726800.0 L -927300.0,-3726850.0 L -927325.0,-3726850.0 L -927325.0,-3726875.0 L -927350.0,-3726875.0 L -927350.0,-3726900.0 L -927375.0,-3726900.0 L -927375.0,-3726925.0 L -927400.0,-3726925.0 L -927400.0,-3726950.0 L -927425.0,-3726950.0 L -927450.0,-3726950.0 L -927450.0,-3726975.0 L -927475.0,-3726975.0 L -927475.0,-3727000.0 L -927500.0,-3727000.0 L -927500.0,-3726975.0 L -927550.0,-3726975.0 L -927550.0,-3726950.0 L -927650.0,-3726950.0 L -927650.0,-3726925.0 L -927700.0,-3726925.0 L -927700.0,-3726900.0 L -927725.0,-3726900.0 L -927725.0,-3726850.0 L -927750.0,-3726850.0 L -927750.0,-3726825.0 L -927775.0,-3726825.0 L -927775.0,-3726800.0 L -927800.0,-3726800.0 L -927800.0,-3726775.0 L -927825.0,-3726775.0 L -927825.0,-3726750.0 L -927850.0,-3726750.0 L -927850.0,-3726725.0 L -927900.0,-3726725.0 L -927900.0,-3726700.0 L -928075.0,-3726700.0 L -928075.0,-3726675.0 L -928125.0,-3726675.0 L -928125.0,-3726650.0 L -928150.0,-3726650.0 L -928150.0,-3726625.0 L -928200.0,-3726625.0 L -928200.0,-3726600.0 L -928225.0,-3726600.0 L -928225.0,-3726575.0 L -928200.0,-3726575.0 L -928175.0,-3726575.0 L -928175.0,-3726600.0 L -928100.0,-3726600.0 L -928100.0,-3726625.0 L -928050.0,-3726625.0 L -928025.0,-3726625.0 L -928025.0,-3726650.0 L -928000.0,-3726650.0 L -928000.0,-3726625.0 L -927975.0,-3726625.0 L -927975.0,-3726600.0 L -928025.0,-3726600.0 L -928025.0,-3726575.0 L -928050.0,-3726575.0 L -928050.0,-3726550.0 L -928075.0,-3726550.0 L -928075.0,-3726525.0 L -928125.0,-3726525.0 L -928125.0,-3726550.0 L -928150.0,-3726550.0 L -928225.0,-3726550.0 L -928225.0,-3726525.0 L -928275.0,-3726525.0 L -928275.0,-3726550.0 L -928425.0,-3726550.0 L -928425.0,-3726500.0 L -928450.0,-3726500.0 L -928450.0,-3726425.0 L -928525.0,-3726425.0 L -928525.0,-3726450.0 L -928550.0,-3726450.0 L -928575.0,-3726450.0 L -928575.0,-3726475.0 L -928600.0,-3726475.0 L -928600.0,-3726500.0 L -928625.0,-3726500.0 L -928625.0,-3726550.0 L -928650.0,-3726550.0 L -928700.0,-3726550.0 L -928700.0,-3726525.0 L -928750.0,-3726525.0 L -928750.0,-3726625.0 L -928725.0,-3726625.0 L -928725.0,-3726650.0 L -928700.0,-3726650.0 L -928700.0,-3726675.0 L -928650.0,-3726675.0 L -928650.0,-3726700.0 L -928625.0,-3726700.0 L -928625.0,-3726650.0 L -928600.0,-3726650.0 L -928600.0,-3726625.0 L -928575.0,-3726625.0 L -928575.0,-3726600.0 L -928550.0,-3726600.0 L -928525.0,-3726600.0 L -928525.0,-3726575.0 L -928400.0,-3726575.0 L -928400.0,-3726600.0 L -928350.0,-3726600.0 L -928350.0,-3726625.0 L -928325.0,-3726625.0 L -928300.0,-3726625.0 L -928300.0,-3726650.0 L -928250.0,-3726650.0 L -928225.0,-3726650.0 L -928225.0,-3726675.0 L -928200.0,-3726675.0 L -928200.0,-3726700.0 L -928150.0,-3726700.0 L -928150.0,-3726725.0 L -928125.0,-3726725.0 L -928125.0,-3726775.0 L -928100.0,-3726775.0 L -928100.0,-3726800.0 L -928075.0,-3726800.0 L -928075.0,-3726825.0 L -928075.0,-3726875.0 L -928050.0,-3726875.0 L -928050.0,-3726900.0 L -928050.0,-3727050.0 L -928075.0,-3727050.0 L -928075.0,-3727075.0 L -928050.0,-3727075.0 L -928050.0,-3727125.0 L -928075.0,-3727125.0 L -928075.0,-3727150.0 L -928100.0,-3727150.0 L -928100.0,-3727175.0 L -928125.0,-3727175.0 L -928150.0,-3727175.0 L -928150.0,-3727200.0 L -928175.0,-3727200.0 L -928175.0,-3727225.0 L -928200.0,-3727225.0 L -928200.0,-3727250.0 L -928225.0,-3727250.0 L -928300.0,-3727250.0 L -928300.0,-3727225.0 L -928325.0,-3727225.0 L -928350.0,-3727225.0 L -928350.0,-3727200.0 L -928350.0,-3727175.0 L -928375.0,-3727175.0 L -928375.0,-3727150.0 L -928350.0,-3727150.0 L -928350.0,-3727125.0 L -928450.0,-3727125.0 L -928450.0,-3727100.0 L -928475.0,-3727100.0 L -928500.0,-3727100.0 L -928500.0,-3727075.0 L -928525.0,-3727075.0 L -928550.0,-3727075.0 L -928550.0,-3727050.0 L -928575.0,-3727050.0 L -928575.0,-3727075.0 L -928650.0,-3727075.0 L -928650.0,-3727050.0 L -928850.0,-3727050.0 L -928850.0,-3727025.0 L -928950.0,-3727025.0 L -928950.0,-3727125.0 L -928925.0,-3727125.0 L -928900.0,-3727125.0 L -928900.0,-3727100.0 L -928825.0,-3727100.0 L -928825.0,-3727125.0 L -928700.0,-3727125.0 L -928700.0,-3727150.0 L -928675.0,-3727150.0 L -928675.0,-3727175.0 L -928650.0,-3727175.0 L -928650.0,-3727200.0 L -928625.0,-3727200.0 L -928600.0,-3727200.0 L -928600.0,-3727175.0 z M -928575.0,-3727250.0 L -928575.0,-3727225.0 L -928600.0,-3727225.0 L -928600.0,-3727250.0 L -928575.0,-3727250.0 z M -929700.0,-3726600.0 L -929725.0,-3726600.0 L -929725.0,-3726625.0 L -929700.0,-3726625.0 L -929700.0,-3726600.0 z M -929150.0,-3726125.0 L -929175.0,-3726125.0 L -929175.0,-3726150.0 L -929150.0,-3726150.0 L -929150.0,-3726125.0 z M -928150.0,-3726175.0 L -928175.0,-3726175.0 L -928200.0,-3726175.0 L -928200.0,-3726150.0 L -928250.0,-3726150.0 L -928250.0,-3726175.0 L -928275.0,-3726175.0 L -928300.0,-3726175.0 L -928300.0,-3726150.0 L -928300.0,-3726125.0 L -928325.0,-3726125.0 L -928325.0,-3726200.0 L -928350.0,-3726200.0 L -928350.0,-3726225.0 L -928325.0,-3726225.0 L -928325.0,-3726250.0 L -928325.0,-3726275.0 L -928350.0,-3726275.0 L -928375.0,-3726275.0 L -928400.0,-3726275.0 L -928400.0,-3726250.0 L -928425.0,-3726250.0 L -928425.0,-3726275.0 L -928450.0,-3726275.0 L -928525.0,-3726275.0 L -928525.0,-3726325.0 L -928475.0,-3726325.0 L -928475.0,-3726350.0 L -928450.0,-3726350.0 L -928450.0,-3726375.0 L -928350.0,-3726375.0 L -928350.0,-3726350.0 L -928325.0,-3726350.0 L -928325.0,-3726325.0 L -928300.0,-3726325.0 L -928300.0,-3726300.0 L -928275.0,-3726300.0 L -928275.0,-3726325.0 L -928250.0,-3726325.0 L -928225.0,-3726325.0 L -928225.0,-3726300.0 L -928250.0,-3726300.0 L -928250.0,-3726275.0 L -928225.0,-3726275.0 L -928225.0,-3726250.0 L -928175.0,-3726250.0 L -928150.0,-3726250.0 L -928150.0,-3726175.0 z M -928225.0,-3726325.0 L -928225.0,-3726350.0 L -928200.0,-3726350.0 L -928200.0,-3726400.0 L -928150.0,-3726400.0 L -928150.0,-3726375.0 L -928125.0,-3726375.0 L -928125.0,-3726350.0 L -928150.0,-3726350.0 L -928150.0,-3726300.0 L -928200.0,-3726300.0 L -928200.0,-3726325.0 L -928225.0,-3726325.0 z M -928125.0,-3726375.0 L -928125.0,-3726400.0 L -928100.0,-3726400.0 L -928100.0,-3726375.0 L -928125.0,-3726375.0 z M -926900.0,-3726100.0 L -926900.0,-3726075.0 L -926925.0,-3726075.0 L -926925.0,-3726100.0 L -926900.0,-3726100.0 z M -927900.0,-3726700.0 L -927875.0,-3726700.0 L -927875.0,-3726675.0 L -927900.0,-3726675.0 L -927900.0,-3726700.0 z M -926675.0,-3725550.0 L -926725.0,-3725550.0 L -926725.0,-3725525.0 L -926750.0,-3725525.0 L -926750.0,-3725550.0 L -926775.0,-3725550.0 L -926800.0,-3725550.0 L -926825.0,-3725550.0 L -926825.0,-3725600.0 L -926700.0,-3725600.0 L -926700.0,-3725575.0 L -926675.0,-3725575.0 L -926650.0,-3725575.0 L -926625.0,-3725575.0 L -926625.0,-3725550.0 L -926675.0,-3725550.0 z M -928925.0,-3727150.0 L -928925.0,-3727200.0 L -928875.0,-3727200.0 L -928875.0,-3727175.0 L -928900.0,-3727175.0 L -928900.0,-3727150.0 L -928925.0,-3727150.0 z M -928375.0,-3726025.0 L -928375.0,-3726075.0 L -928350.0,-3726075.0 L -928350.0,-3726025.0 L -928375.0,-3726025.0 z M -928075.0,-3726350.0 L -928075.0,-3726325.0 L -928100.0,-3726325.0 L -928100.0,-3726350.0 L -928075.0,-3726350.0 z M -928200.0,-3727150.0 L -928225.0,-3727150.0 L -928225.0,-3727175.0 L -928200.0,-3727175.0 L -928200.0,-3727150.0 z M -928675.0,-3726150.0 L -928675.0,-3726325.0 L -928650.0,-3726325.0 L -928650.0,-3726350.0 L -928625.0,-3726350.0 L -928625.0,-3726325.0 L -928600.0,-3726325.0 L -928575.0,-3726325.0 L -928575.0,-3726275.0 L -928600.0,-3726275.0 L -928600.0,-3726250.0 L -928625.0,-3726250.0 L -928625.0,-3726200.0 L -928650.0,-3726200.0 L -928650.0,-3726150.0 L -928675.0,-3726150.0 z\" /></g></svg>"
      ],
      "text/plain": [
       "<shapely.geometry.polygon.Polygon at 0x7f9d43f82160>"
      ]
     },
     "execution_count": 39,
     "metadata": {},
     "output_type": "execute_result"
    }
   ],
   "source": [
    "polygons.iloc[polygons.pp_test.argmin()].geometry"
   ]
  },
  {
   "cell_type": "markdown",
   "metadata": {},
   "source": [
    "## Make sure every polygon has a minimum number of observations"
   ]
  },
  {
   "cell_type": "markdown",
   "metadata": {},
   "source": [
    "Similar to how we applied the ocean mask, we will now remove all polygons that don't have a minimum number of observations attained within them."
   ]
  },
  {
   "cell_type": "code",
   "execution_count": 40,
   "metadata": {},
   "outputs": [],
   "source": [
    "if not apply_min_valid_observations_first:\n",
    "    polygons['one_idx'] = range(1, len(polygons) + 1)\n",
    "    polygon_mask = xr_rasterize(polygons, wofs, attribute_col='one_idx')\n",
    "    counts = []\n",
    "    for i in polygons.one_idx:\n",
    "        mask = polygon_mask == i\n",
    "        count = wofs.count_clear.values[mask].max()\n",
    "        counts.append(count)\n",
    "    polygons['n_valid_observations'] = counts\n",
    "    polygons = polygons[polygons.n_valid_observations >= min_valid_observations]"
   ]
  },
  {
   "cell_type": "markdown",
   "metadata": {},
   "source": [
    "We have now excluded polygons with a small number of observations:"
   ]
  },
  {
   "cell_type": "code",
   "execution_count": 41,
   "metadata": {},
   "outputs": [
    {
     "data": {
      "text/plain": [
       "<matplotlib.axes._subplots.AxesSubplot at 0x7f9d1cac8978>"
      ]
     },
     "execution_count": 41,
     "metadata": {},
     "output_type": "execute_result"
    },
    {
     "data": {
      "image/png": "[encoded data removed]",
      "text/plain": [
       "<Figure size 432x288 with 1 Axes>"
      ]
     },
     "metadata": {
      "needs_background": "light"
     },
     "output_type": "display_data"
    }
   ],
   "source": [
    "polygons.plot(edgecolor='k')"
   ]
  },
  {
   "cell_type": "markdown",
   "metadata": {},
   "source": [
    "### Generate a unique ID for each polygon\n",
    "\n",
    "A unique identifier is required for every polygon to allow it to be referenced. The naming convention for generating unique IDs here is the [geohash](geohash.org).\n",
    "\n",
    "A Geohash is a geocoding system used to generate short unique identifiers based on latitude/longitude coordinates. It is a short combination of letters and numbers, with the length of the string a function of the precision of the location. The methods for generating a geohash are outlined [here - yes, the official documentation is a wikipedia article](https://en.wikipedia.org/wiki/Geohash).\n",
    "\n",
    "Here we use the python package `python-geohash` to generate a geohash unique identifier for each polygon. We use `precision = 9` geohash characters, which represents an on the ground accuracy of <20 metres. This ensures that the precision is high enough to differentiate between waterbodies located next to each other."
   ]
  },
  {
   "cell_type": "code",
   "execution_count": 42,
   "metadata": {},
   "outputs": [],
   "source": [
    "# We need to convert from Albers coordinates to lat/lon, in order to generate the geohash\n",
    "polygons_4326 = polygons.to_crs(epsg=4326)\n",
    "\n",
    "# Generate a geohash for the centroid of each polygon\n",
    "polygons_4326['UID'] = polygons_4326.apply(lambda x: gh.encode(x.geometry.centroid.y, x.geometry.centroid.x, precision=9), axis=1)\n",
    "\n",
    "# Check that our unique ID is in fact unique\n",
    "assert polygons_4326['UID'].is_unique\n",
    "\n",
    "# Make an arbitrary numerical ID for each polygon. We will first sort the dataframe by geohash\n",
    "# so that polygons close to each other are numbered similarly\n",
    "sorted_polygons = polygons_4326.sort_values(by=['UID']).reset_index()\n",
    "sorted_polygons['WB_ID'] = sorted_polygons.index"
   ]
  },
  {
   "cell_type": "code",
   "execution_count": 43,
   "metadata": {},
   "outputs": [],
   "source": [
    "# The step above creates an 'index' column, which we don't actually want, so drop it.\n",
    "sorted_polygons.drop(labels='index', axis=1, inplace=True)"
   ]
  },
  {
   "cell_type": "code",
   "execution_count": 44,
   "metadata": {},
   "outputs": [],
   "source": [
    "polygons = sorted_polygons.to_crs('EPSG:3577')"
   ]
  },
  {
   "cell_type": "markdown",
   "metadata": {},
   "source": [
    "### Write out the final results to a shapefile"
   ]
  },
  {
   "cell_type": "code",
   "execution_count": 45,
   "metadata": {},
   "outputs": [],
   "source": [
    "polygons.to_file(intermediate_wb_path / f'{base_filename}.shp', driver='ESRI Shapefile')\n",
    "polygons.to_file(intermediate_wb_path / f'{base_filename}.geojson', driver='GeoJSON')"
   ]
  },
  {
   "cell_type": "code",
   "execution_count": 46,
   "metadata": {},
   "outputs": [
    {
     "data": {
      "text/plain": [
       "<matplotlib.axes._subplots.AxesSubplot at 0x7f9d43f69cf8>"
      ]
     },
     "execution_count": 46,
     "metadata": {},
     "output_type": "execute_result"
    },
    {
     "data": {
      "image/png": "[encoded data removed]",
      "text/plain": [
       "<Figure size 432x288 with 1 Axes>"
      ]
     },
     "metadata": {
      "needs_background": "light"
     },
     "output_type": "display_data"
    }
   ],
   "source": [
    "polygons.plot()"
   ]
  },
  {
   "cell_type": "markdown",
   "metadata": {},
   "source": [
    "## Compare to DEA Waterbodies"
   ]
  },
  {
   "cell_type": "code",
   "execution_count": 47,
   "metadata": {},
   "outputs": [],
   "source": [
    "wbs = get_waterbodies([xlim[0], ylim[0], xlim[1], ylim[1]])"
   ]
  },
  {
   "cell_type": "code",
   "execution_count": 48,
   "metadata": {},
   "outputs": [],
   "source": [
    "polygon_raster = xr_rasterize(polygons, wofs)"
   ]
  },
  {
   "cell_type": "code",
   "execution_count": 49,
   "metadata": {},
   "outputs": [],
   "source": [
    "wbs_raster = xr_rasterize(wbs, wofs)"
   ]
  },
  {
   "cell_type": "code",
   "execution_count": 50,
   "metadata": {},
   "outputs": [
    {
     "data": {
      "text/plain": [
       "<matplotlib.collections.QuadMesh at 0x7f9d43a147b8>"
      ]
     },
     "execution_count": 50,
     "metadata": {},
     "output_type": "execute_result"
    },
    {
     "data": {
      "image/png": "[encoded data removed]",
      "text/plain": [
       "<Figure size 432x288 with 2 Axes>"
      ]
     },
     "metadata": {
      "needs_background": "light"
     },
     "output_type": "display_data"
    }
   ],
   "source": [
    "(polygon_raster - wbs_raster).plot(cmap='coolwarm_r', vmin=-1, vmax=1)"
   ]
  },
  {
   "cell_type": "markdown",
   "metadata": {},
   "source": [
    "If all parameters are set as in v1, this notebook should reproduce DEA Waterbodies. But we can also change these parameters, and experiment with how we might improve DEA Waterbodies for future releases."
   ]
  },
  {
   "cell_type": "markdown",
   "metadata": {},
   "source": [
    "***\n",
    "\n",
    "## Additional information\n",
    "\n",
    "**License:** The code in this notebook is licensed under the [Apache License, Version 2.0](https://www.apache.org/licenses/LICENSE-2.0). \n",
    "Digital Earth Australia data is licensed under the [Creative Commons by Attribution 4.0](https://creativecommons.org/licenses/by/4.0/) license.\n",
    "\n",
    "**Contact:** If you need assistance, please post a question on the [Open Data Cube Slack channel](http://slack.opendatacube.org/) or on the [GIS Stack Exchange](https://gis.stackexchange.com/questions/ask?tags=open-data-cube) using the `open-data-cube` tag (you can view previously asked questions [here](https://gis.stackexchange.com/questions/tagged/open-data-cube)).\n",
    "If you would like to report an issue with this notebook, you can file one on [Github](https://github.com/GeoscienceAustralia/dea-notebooks).\n",
    "\n",
    "**Last modified:** November 2020\n",
    "\n",
    "**Compatible datacube version:**"
   ]
  },
  {
   "cell_type": "code",
   "execution_count": 51,
   "metadata": {},
   "outputs": [
    {
     "data": {
      "text/plain": [
       "'1.8.3'"
      ]
     },
     "execution_count": 51,
     "metadata": {},
     "output_type": "execute_result"
    }
   ],
   "source": [
    "datacube.__version__"
   ]
  },
  {
   "cell_type": "markdown",
   "metadata": {},
   "source": [
    "## Tags"
   ]
  },
  {
   "cell_type": "raw",
   "metadata": {
    "raw_mimetype": "text/restructuredtext"
   },
   "source": [
    "Tags: :index:`fiona`, :index:`geopandas`, :index:`Geotiff`, :index:`masking`, :index:`rasterio`, :index:`shapefile`, :index:`WOfS`, :index:`WOFL`, :index:`shapely`, :index:`raster to polygons`, :index:`polygons`, :index:`vectorise`, :index:`DEA Waterbodies`"
   ]
  }
 ],
 "metadata": {
  "kernelspec": {
   "display_name": "Python 3",
   "language": "python",
   "name": "python3"
  },
  "language_info": {
   "codemirror_mode": {
    "name": "ipython",
    "version": 3
   },
   "file_extension": ".py",
   "mimetype": "text/x-python",
   "name": "python",
   "nbconvert_exporter": "python",
   "pygments_lexer": "ipython3",
   "version": "3.6.9"
  },
  "toc": {
   "base_numbering": 1,
   "nav_menu": {},
   "number_sections": true,
   "sideBar": true,
   "skip_h1_title": false,
   "title_cell": "Table of Contents",
   "title_sidebar": "Contents",
   "toc_cell": false,
   "toc_position": {},
   "toc_section_display": true,
   "toc_window_display": false
  },
  "widgets": {
   "application/vnd.jupyter.widget-state+json": {
    "state": {},
    "version_major": 2,
    "version_minor": 0
   }
  }
 },
 "nbformat": 4,
 "nbformat_minor": 4
}
